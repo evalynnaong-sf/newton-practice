{
 "cells": [
  {
   "cell_type": "code",
   "execution_count": 2,
   "id": "7061753a-189d-4230-8a64-82ad7ce8af41",
   "metadata": {},
   "outputs": [],
   "source": [
    "import newton\n",
    "import numpy as np\n"
   ]
  },
  {
   "cell_type": "code",
   "execution_count": 3,
   "id": "785074d8-6048-4efe-b751-ebb2ecc64289",
   "metadata": {},
   "outputs": [
    {
     "data": {
      "text/plain": [
       "np.float64(-1.5707953267908967)"
      ]
     },
     "execution_count": 3,
     "metadata": {},
     "output_type": "execute_result"
    }
   ],
   "source": [
    "newton.optimize(2.95, np.cos)"
   ]
  },
  {
   "cell_type": "code",
   "execution_count": 7,
   "id": "09a49599-ded0-4fb7-b069-4db359a9df71",
   "metadata": {},
   "outputs": [
    {
     "ename": "NameError",
     "evalue": "name 'x' is not defined",
     "output_type": "error",
     "traceback": [
      "\u001b[31m---------------------------------------------------------------------------\u001b[39m",
      "\u001b[31mNameError\u001b[39m                                 Traceback (most recent call last)",
      "\u001b[36mCell\u001b[39m\u001b[36m \u001b[39m\u001b[32mIn[7]\u001b[39m\u001b[32m, line 1\u001b[39m\n\u001b[32m----> \u001b[39m\u001b[32m1\u001b[39m func = \u001b[43mx\u001b[49m^\u001b[32m4\u001b[39m/\u001b[32m4\u001b[39m - x^\u001b[32m3\u001b[39m -x\n\u001b[32m      2\u001b[39m newton.optimize(\u001b[32m2.95\u001b[39m, func)\n",
      "\u001b[31mNameError\u001b[39m: name 'x' is not defined"
     ]
    }
   ],
   "source": [
    "func = x^4/4 - x^3 -x\n",
    "newton.optimize(2.95, func)"
   ]
  }
 ],
 "metadata": {
  "kernelspec": {
   "display_name": "Python 3 (ipykernel)",
   "language": "python",
   "name": "python3"
  },
  "language_info": {
   "codemirror_mode": {
    "name": "ipython",
    "version": 3
   },
   "file_extension": ".py",
   "mimetype": "text/x-python",
   "name": "python",
   "nbconvert_exporter": "python",
   "pygments_lexer": "ipython3",
   "version": "3.11.13"
  }
 },
 "nbformat": 4,
 "nbformat_minor": 5
}
