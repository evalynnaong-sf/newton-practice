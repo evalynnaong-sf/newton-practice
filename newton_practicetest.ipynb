{
 "cells": [
  {
   "cell_type": "code",
   "execution_count": 1,
   "id": "db309b51-aea6-4010-87d6-b2db12ff4562",
   "metadata": {},
   "outputs": [
    {
     "ename": "IndentationError",
     "evalue": "expected an indented block after function definition on line 5 (493149741.py, line 9)",
     "output_type": "error",
     "traceback": [
      "  \u001b[36mCell\u001b[39m\u001b[36m \u001b[39m\u001b[32mIn[1]\u001b[39m\u001b[32m, line 9\u001b[39m\n\u001b[31m    \u001b[39m\u001b[31mdef deriv(func, x, h=1e-6):\u001b[39m\n    ^\n\u001b[31mIndentationError\u001b[39m\u001b[31m:\u001b[39m expected an indented block after function definition on line 5\n"
     ]
    }
   ],
   "source": [
    "#Newton's method as a Python function\n",
    "# test respond to issues",
    "import newton\n",
    "import numpy as np\n",
    "\n",
    "def optimize(start, func): \n",
    "    for(x\n",
    "\n",
    "\n",
    "def deriv(func, x, h=1e-6): #h as in epsilon; small steps\n",
    "    return (func(x+h)-func(x-h)/(2*h))\n",
    "            \n"
   ]
  }
 ],
 "metadata": {
  "kernelspec": {
   "display_name": "Python 3 (ipykernel)",
   "language": "python",
   "name": "python3"
  },
  "language_info": {
   "codemirror_mode": {
    "name": "ipython",
    "version": 3
   },
   "file_extension": ".py",
   "mimetype": "text/x-python",
   "name": "python",
   "nbconvert_exporter": "python",
   "pygments_lexer": "ipython3",
   "version": "3.11.13"
  }
 },
 "nbformat": 4,
 "nbformat_minor": 5
}
